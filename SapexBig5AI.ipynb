{
 "cells": [
  {
   "cell_type": "code",
   "execution_count": 1,
   "id": "4789709b",
   "metadata": {},
   "outputs": [],
   "source": [
    "from fastapi import FastAPI\n",
    "from pydantic import BaseModel\n",
    "import nest_asyncio\n",
    "import uvicorn\n",
    "\n",
    "# This line fixes async issues in Jupyter\n",
    "nest_asyncio.apply()\n",
    "\n",
    "# Create the FastAPI app\n",
    "app = FastAPI()\n",
    "\n",
    "# Define the data structure for Big Five traits\n",
    "class PersonalityData(BaseModel):\n",
    "    openness: int\n",
    "    conscientiousness: int\n",
    "    agreeableness: int\n",
    "    neuroticism: int\n",
    "    extraversion: int\n",
    "\n",
    "# Create a POST endpoint for matching\n",
    "@app.post(\"/match\")\n",
    "def match_user(data: PersonalityData):\n",
    "    # Mock logic for now\n",
    "    return {\n",
    "        \"matched_user_id\": 42,\n",
    "        \"match_score\": 0.85\n",
    "    }\n"
   ]
  }
 ],
 "metadata": {
  "kernelspec": {
   "display_name": ".venv",
   "language": "python",
   "name": "python3"
  },
  "language_info": {
   "codemirror_mode": {
    "name": "ipython",
    "version": 3
   },
   "file_extension": ".py",
   "mimetype": "text/x-python",
   "name": "python",
   "nbconvert_exporter": "python",
   "pygments_lexer": "ipython3",
   "version": "3.13.3"
  }
 },
 "nbformat": 4,
 "nbformat_minor": 5
}
